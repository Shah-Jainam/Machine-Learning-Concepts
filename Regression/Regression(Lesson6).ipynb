{
 "cells": [
  {
   "cell_type": "markdown",
   "metadata": {},
   "source": [
    "## Age/Net Worth Regression in sklearn"
   ]
  },
  {
   "cell_type": "code",
   "execution_count": 8,
   "metadata": {},
   "outputs": [
    {
     "data": {
      "text/plain": [
       "Text(0, 0.5, 'net worths')"
      ]
     },
     "execution_count": 8,
     "metadata": {},
     "output_type": "execute_result"
    },
    {
     "data": {
      "image/png": "[encoded data removed]",
      "text/plain": [
       "<Figure size 432x288 with 1 Axes>"
      ]
     },
     "metadata": {
      "needs_background": "light"
     },
     "output_type": "display_data"
    }
   ],
   "source": [
    "import sys\n",
    "sys.path.append(\"/home/cit5/Downloads/ud120-projects-master/tools/\")\n",
    "sys.path.append('/home/cit5/Downloads/ud120-projects-master/choose_your_own')\n",
    "sys.path.append('/home/cit5/Downloads/ud120-projects-master/datasets_questions')\n",
    "\n",
    "import os\n",
    "os.chdir('/home/cit5/Downloads/ud120-projects-master/regression')\n",
    "\n",
    "\n",
    "import numpy\n",
    "import matplotlib\n",
    "matplotlib.use('agg')\n",
    "\n",
    "import matplotlib.pyplot as plt\n",
    "from class_vis import prettyPicture, output_image\n",
    "\n",
    "from ages_net_worth import ageNetWorthData\n",
    "\n",
    "ages_train, ages_test, net_worths_train, net_worths_test = ageNetWorthData()\n",
    "\n",
    "\n",
    "from sklearn import linear_model\n",
    "\n",
    "def studentReg(ages_train, net_worths_train):\n",
    "    reg = linear_model.LinearRegression()\n",
    "    reg.fit(ages_train, net_worths_train)\n",
    "    return reg\n",
    "\n",
    "\n",
    "reg = studentReg(ages_train, net_worths_train)\n",
    "\n",
    "%matplotlib inline\n",
    "plt.clf()\n",
    "plt.scatter(ages_train, net_worths_train, color=\"b\", label=\"train data\")\n",
    "plt.scatter(ages_test, net_worths_test, color=\"r\", label=\"test data\")\n",
    "plt.plot(ages_test, reg.predict(ages_test), color=\"black\")\n",
    "plt.legend(loc=2)\n",
    "plt.xlabel(\"ages\")\n",
    "plt.ylabel(\"net worths\")"
   ]
  },
  {
   "cell_type": "markdown",
   "metadata": {},
   "source": [
    "## Now You Practice Extracting Information"
   ]
  },
  {
   "cell_type": "code",
   "execution_count": 9,
   "metadata": {},
   "outputs": [],
   "source": [
    "reg = linear_model.LinearRegression()\n",
    "reg.fit(ages_train, net_worths_train)\n",
    "\n",
    "### get Katie's net worth (she's 27)\n",
    "### sklearn predictions are returned in an array, so you'll want to index into\n",
    "### the output to get what you want, e.g. net_worth = predict([[27]])[0][0] (not\n",
    "### exact syntax, the point is the [0] at the end). In addition, make sure the\n",
    "### argument to your prediction function is in the expected format - if you get\n",
    "### a warning about needing a 2d array for your data, a list of lists will be\n",
    "### interpreted by sklearn as such (e.g. [[27]]).\n",
    "km_net_worth = reg.predict([[27]])[0][0]\n",
    "\n",
    "### get the slope\n",
    "### again, you'll get a 2-D array, so stick the [0][0] at the end\n",
    "slope = reg.coef_[0][0]\n",
    "\n",
    "### get the intercept\n",
    "### here you get a 1-D array, so stick [0] on the end to access\n",
    "### the info we want\n",
    "intercept = reg.intercept_[0]\n",
    "\n",
    "\n",
    "### get the score on test data\n",
    "test_score = reg.score(ages_test, net_worths_test)\n",
    "\n",
    "\n",
    "### get the score on the training data\n",
    "training_score = reg.score(ages_train, net_worths_train)"
   ]
  },
  {
   "cell_type": "markdown",
   "metadata": {},
   "source": [
    "## Bonus Target and Features"
   ]
  },
  {
   "cell_type": "code",
   "execution_count": 12,
   "metadata": {},
   "outputs": [
    {
     "data": {
      "image/png": "[encoded data removed]",
      "text/plain": [
       "<Figure size 432x288 with 1 Axes>"
      ]
     },
     "metadata": {
      "needs_background": "light"
     },
     "output_type": "display_data"
    }
   ],
   "source": [
    "import pickle\n",
    "from feature_format import featureFormat, targetFeatureSplit\n",
    "\n",
    "dictionary = pickle.load( open(\"../final_project/final_project_dataset_modified.pkl\", \"rb\") )\n",
    "\n",
    "def finance_regression(dictionary, features_list, fit_test=False):\n",
    "    data = featureFormat( dictionary, features_list, remove_any_zeroes=True)\n",
    "    target, features = targetFeatureSplit( data )\n",
    "\n",
    "    ### training-testing split needed in regression, just like classification\n",
    "    from sklearn.model_selection import train_test_split\n",
    "    feature_train, feature_test, target_train, target_test = train_test_split(features, target, test_size=0.5, random_state=42)\n",
    "    train_color = \"b\"\n",
    "    test_color = \"r\"\n",
    "\n",
    "\n",
    "    reg = linear_model.LinearRegression()\n",
    "    reg.fit(feature_train, target_train)\n",
    "\n",
    "\n",
    "    ### draw the scatterplot, with color-coded training and testing points\n",
    "    import matplotlib.pyplot as plt\n",
    "    for feature, target in zip(feature_test, target_test):\n",
    "        plt.scatter( feature, target, color=test_color ) \n",
    "    for feature, target in zip(feature_train, target_train):\n",
    "        plt.scatter( feature, target, color=train_color ) \n",
    "\n",
    "    ### labels for the legend\n",
    "    plt.scatter(feature_test[0], target_test[0], color=test_color, label=\"test\")\n",
    "    plt.scatter(feature_test[0], target_test[0], color=train_color, label=\"train\")\n",
    "\n",
    "\n",
    "    # draw the regression line, once it's coded\n",
    "    plt.plot( feature_test, reg.predict(feature_test) )\n",
    "    plt.xlabel(features_list[1])\n",
    "    plt.ylabel(features_list[0])\n",
    "    plt.legend()\n",
    "    \n",
    "    if fit_test:\n",
    "        reg.fit(feature_test, target_test)\n",
    "        plt.plot(feature_train, reg.predict(feature_train), color=\"r\") \n",
    "    \n",
    "    return (reg, feature_train, target_train, feature_test, target_test)\n",
    "\n",
    "\n",
    "(reg, feature_train, target_train, feature_test, target_test) = finance_regression(dictionary, [\"bonus\", \"salary\"])"
   ]
  },
  {
   "cell_type": "markdown",
   "metadata": {},
   "source": [
    "## Extracting Slope and Intercept"
   ]
  },
  {
   "cell_type": "code",
   "execution_count": 13,
   "metadata": {},
   "outputs": [
    {
     "name": "stdout",
     "output_type": "stream",
     "text": [
      "slope = 1.9701728684684932\n",
      "intercept = 662220.4176015807\n"
     ]
    }
   ],
   "source": [
    "print ('slope = {0}'.format(reg.coef_[0]))\n",
    "print ('intercept = {0}'.format(reg.intercept_))"
   ]
  },
  {
   "cell_type": "markdown",
   "metadata": {},
   "source": [
    "## Regression Score: Training Data"
   ]
  },
  {
   "cell_type": "code",
   "execution_count": 14,
   "metadata": {},
   "outputs": [
    {
     "name": "stdout",
     "output_type": "stream",
     "text": [
      "score on training set = 0.04164573226747781\n"
     ]
    }
   ],
   "source": [
    "print ('score on training set = {0}'.format(reg.score(feature_train, target_train)))"
   ]
  },
  {
   "cell_type": "markdown",
   "metadata": {},
   "source": [
    "## Regression Score: Test Data"
   ]
  },
  {
   "cell_type": "code",
   "execution_count": 15,
   "metadata": {},
   "outputs": [
    {
     "name": "stdout",
     "output_type": "stream",
     "text": [
      "score on test set = -0.04471207836147806\n"
     ]
    }
   ],
   "source": [
    "print ('score on test set = {0}'.format(reg.score(feature_test, target_test)))"
   ]
  },
  {
   "cell_type": "markdown",
   "metadata": {},
   "source": [
    "## Regressing Bonus Against LTI"
   ]
  },
  {
   "cell_type": "code",
   "execution_count": 16,
   "metadata": {},
   "outputs": [
    {
     "data": {
      "image/png": "[encoded data removed]",
      "text/plain": [
       "<Figure size 432x288 with 1 Axes>"
      ]
     },
     "metadata": {
      "needs_background": "light"
     },
     "output_type": "display_data"
    }
   ],
   "source": [
    "(reg, feature_train, target_train, feature_test, target_test) = finance_regression(dictionary, ['bonus', 'long_term_incentive'])"
   ]
  },
  {
   "cell_type": "code",
   "execution_count": 17,
   "metadata": {},
   "outputs": [
    {
     "name": "stdout",
     "output_type": "stream",
     "text": [
      "score on test set = 0.10891175736247383\n"
     ]
    }
   ],
   "source": [
    "print ('score on test set = {0}'.format(reg.score(feature_test, target_test)))"
   ]
  },
  {
   "cell_type": "markdown",
   "metadata": {},
   "source": [
    "## Sneak Peek: Outliers Break Regressions"
   ]
  },
  {
   "cell_type": "code",
   "execution_count": 18,
   "metadata": {},
   "outputs": [
    {
     "name": "stdout",
     "output_type": "stream",
     "text": [
      "slope = 2.367612124817566\n"
     ]
    },
    {
     "data": {
      "image/png": "[encoded data removed]",
      "text/plain": [
       "<Figure size 432x288 with 1 Axes>"
      ]
     },
     "metadata": {
      "needs_background": "light"
     },
     "output_type": "display_data"
    }
   ],
   "source": [
    "(reg, feature_train, target_train, feature_test, target_test) = finance_regression(dictionary, [\"bonus\", \"salary\"], fit_test=True)\n",
    "print ('slope = {0}'.format(reg.coef_[0]))"
   ]
  },
  {
   "cell_type": "code",
   "execution_count": null,
   "metadata": {},
   "outputs": [],
   "source": []
  }
 ],
 "metadata": {
  "kernelspec": {
   "display_name": "Python 3",
   "language": "python",
   "name": "python3"
  },
  "language_info": {
   "codemirror_mode": {
    "name": "ipython",
    "version": 3
   },
   "file_extension": ".py",
   "mimetype": "text/x-python",
   "name": "python",
   "nbconvert_exporter": "python",
   "pygments_lexer": "ipython3",
   "version": "3.6.9"
  }
 },
 "nbformat": 4,
 "nbformat_minor": 1
}
