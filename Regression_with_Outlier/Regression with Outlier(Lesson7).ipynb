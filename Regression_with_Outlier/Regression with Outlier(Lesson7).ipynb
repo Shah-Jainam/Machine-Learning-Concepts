{
 "cells": [
  {
   "cell_type": "markdown",
   "metadata": {},
   "source": [
    "## Slope of Regression with Outliers"
   ]
  },
  {
   "cell_type": "code",
   "execution_count": 6,
   "metadata": {},
   "outputs": [
    {
     "name": "stdout",
     "output_type": "stream",
     "text": [
      "slope = 5.077930643440256\n"
     ]
    },
    {
     "data": {
      "text/plain": [
       "<matplotlib.collections.PathCollection at 0x7f8827266780>"
      ]
     },
     "execution_count": 6,
     "metadata": {},
     "output_type": "execute_result"
    },
    {
     "data": {
      "image/png": "[encoded data removed]",
      "text/plain": [
       "<Figure size 432x288 with 1 Axes>"
      ]
     },
     "metadata": {
      "needs_background": "light"
     },
     "output_type": "display_data"
    }
   ],
   "source": [
    "import sys\n",
    "sys.path.append(\"/home/cit5/Downloads/ud120-projects-master/tools/\")\n",
    "sys.path.append('/home/cit5/Downloads/ud120-projects-master/choose_your_own')\n",
    "sys.path.append('/home/cit5/Downloads/ud120-projects-master/datasets_questions')\n",
    "\n",
    "import os\n",
    "os.chdir('/home/cit5/Downloads/ud120-projects-master/outliers')\n",
    "\n",
    "import random\n",
    "import numpy\n",
    "import matplotlib.pyplot as plt\n",
    "import pickle\n",
    "\n",
    "from outlier_cleaner import outlierCleaner\n",
    "\n",
    "\n",
    "### load up some practice data with outliers in it\n",
    "ages = pickle.load( open(\"practice_outliers_ages.pkl\", \"rb\") )\n",
    "net_worths = pickle.load( open(\"practice_outliers_net_worths.pkl\", \"rb\") )\n",
    "\n",
    "### ages and net_worths need to be reshaped into 2D numpy arrays\n",
    "### second argument of reshape command is a tuple of integers: (n_rows, n_columns)\n",
    "### by convention, n_rows is the number of data points\n",
    "### and n_columns is the number of features\n",
    "ages       = numpy.reshape( numpy.array(ages), (len(ages), 1))\n",
    "net_worths = numpy.reshape( numpy.array(net_worths), (len(net_worths), 1))\n",
    "from sklearn.model_selection import train_test_split\n",
    "ages_train, ages_test, net_worths_train, net_worths_test = train_test_split(ages, net_worths, test_size=0.1, random_state=42)\n",
    "\n",
    "\n",
    "# fit a linear regression\n",
    "from sklearn import linear_model\n",
    "\n",
    "reg = linear_model.LinearRegression()\n",
    "reg.fit(ages_train, net_worths_train)\n",
    "\n",
    "print ('slope = {0}'.format(reg.coef_[0][0]))\n",
    "\n",
    "\n",
    "%matplotlib inline\n",
    "plt.plot(ages, reg.predict(ages), color=\"blue\")\n",
    "plt.scatter(ages, net_worths)"
   ]
  },
  {
   "cell_type": "markdown",
   "metadata": {},
   "source": [
    "## Score of Regression with Outliers"
   ]
  },
  {
   "cell_type": "code",
   "execution_count": 7,
   "metadata": {},
   "outputs": [
    {
     "name": "stdout",
     "output_type": "stream",
     "text": [
      "score = 0.8782624703664671\n"
     ]
    }
   ],
   "source": [
    "print ('score = {0}'.format(reg.score(ages_test, net_worths_test)))"
   ]
  },
  {
   "cell_type": "markdown",
   "metadata": {},
   "source": [
    "## Slope After Cleaning"
   ]
  },
  {
   "cell_type": "code",
   "execution_count": 8,
   "metadata": {},
   "outputs": [
    {
     "name": "stdout",
     "output_type": "stream",
     "text": [
      "new slope = 6.368594806943666\n"
     ]
    },
    {
     "data": {
      "image/png": "[encoded data removed]",
      "text/plain": [
       "<Figure size 432x288 with 1 Axes>"
      ]
     },
     "metadata": {
      "needs_background": "light"
     },
     "output_type": "display_data"
    }
   ],
   "source": [
    "def outlierCleaner(predictions, ages, net_worths):\n",
    "    \"\"\"\n",
    "        Clean away the 10% of points that have the largest\n",
    "        residual errors (difference between the prediction\n",
    "        and the actual net worth).\n",
    "\n",
    "        Return a list of tuples named cleaned_data where \n",
    "        each tuple is of the form (age, net_worth, error).\n",
    "    \"\"\"\n",
    "    errors = net_worths-predictions\n",
    "    threshold = numpy.percentile(numpy.absolute(errors), 90)\n",
    "    #print threshold\n",
    "    #print numpy.max(numpy.absolute(errors))\n",
    "    #print numpy.sort(numpy.absolute(errors), axis=0)\n",
    "    \n",
    "    cleaned_data = [(age, net_worth, error) for age, net_worth, error in zip(ages, net_worths, errors) if abs(error) <= threshold]\n",
    "    \n",
    "    return cleaned_data\n",
    "\n",
    "reg = linear_model.LinearRegression()\n",
    "reg.fit(ages_train, net_worths_train)\n",
    "\n",
    "plt.plot(ages, reg.predict(ages), color='blue')\n",
    "\n",
    "# plot all points in blue\n",
    "plt.scatter(ages, net_worths, color='blue')\n",
    "\n",
    "# plot the current training points in orange\n",
    "plt.scatter(ages_train, net_worths_train, color='orange')\n",
    "\n",
    "### identify and remove the most outlier-y points\n",
    "predictions = reg.predict(ages_train)\n",
    "cleaned_data = outlierCleaner( predictions, ages_train, net_worths_train )\n",
    "\n",
    "\n",
    "### only run this code if cleaned_data is returning data\n",
    "if len(cleaned_data) > 0:\n",
    "    # the non-outlier ages, net worths, and errors\n",
    "    ages_train2, net_worths_train2, errors_train2 = zip(*cleaned_data)\n",
    "    ages_train2       = numpy.reshape( numpy.array(ages_train2), (len(ages_train2), 1))\n",
    "    net_worths_train2 = numpy.reshape( numpy.array(net_worths_train2), (len(net_worths_train2), 1))\n",
    "\n",
    "    # refit the cleaned data\n",
    "    reg2 = linear_model.LinearRegression()\n",
    "    reg2.fit(ages_train2, net_worths_train2)\n",
    "    plt.plot(ages, reg2.predict(ages), color='red')\n",
    "    plt.scatter(ages_train2, net_worths_train2, color='red')\n",
    "    plt.xlabel(\"ages\")\n",
    "    plt.ylabel(\"net worths\")\n",
    "\n",
    "else:\n",
    "    print (\"outlierCleaner() is returning an empty list, no refitting to be done\")\n",
    "    \n",
    "    \n",
    "print ('new slope = {0}'.format(reg2.coef_[0][0]))"
   ]
  },
  {
   "cell_type": "markdown",
   "metadata": {},
   "source": [
    "## Score After Cleaning"
   ]
  },
  {
   "cell_type": "code",
   "execution_count": 9,
   "metadata": {},
   "outputs": [
    {
     "name": "stdout",
     "output_type": "stream",
     "text": [
      "new score = 0.983189455395532\n"
     ]
    }
   ],
   "source": [
    "print ('new score = {0}'.format(reg2.score(ages_test, net_worths_test)))"
   ]
  },
  {
   "cell_type": "markdown",
   "metadata": {},
   "source": [
    "## Enron Outliers"
   ]
  },
  {
   "cell_type": "code",
   "execution_count": 20,
   "metadata": {},
   "outputs": [
    {
     "name": "stdout",
     "output_type": "stream",
     "text": [
      "TOTAL\n"
     ]
    },
    {
     "data": {
      "image/png": "[encoded data removed]",
      "text/plain": [
       "<Figure size 432x288 with 1 Axes>"
      ]
     },
     "metadata": {
      "needs_background": "light"
     },
     "output_type": "display_data"
    }
   ],
   "source": [
    "from feature_format import featureFormat, targetFeatureSplit\n",
    "\n",
    "### read in data dictionary, convert to numpy array\n",
    "data_dict = pickle.load( open(\"../final_project/final_project_dataset.pkl\", \"rb\") )\n",
    "features = [\"salary\", \"bonus\"]\n",
    "data = featureFormat(data_dict, features)\n",
    "\n",
    "plt.scatter(data[:,0], data[:,1])\n",
    "plt.xlabel(\"salary\")\n",
    "plt.ylabel(\"bonus\")\n",
    "\n",
    "import pandas as pd\n",
    "df = pd.DataFrame(data_dict)\n",
    "df.loc['salary',:] = pd.to_numeric(df.loc['salary',:], errors='coerce')\n",
    "df.loc['bonus',:] = pd.to_numeric(df.loc['bonus',:], errors='coerce')\n",
    "x = df.loc['salary',:].astype('float64')\n",
    "print(x.idxmax(axis=1))"
   ]
  },
  {
   "cell_type": "markdown",
   "metadata": {},
   "source": [
    "## Any More Outliers?"
   ]
  },
  {
   "cell_type": "code",
   "execution_count": 21,
   "metadata": {},
   "outputs": [
    {
     "data": {
      "text/plain": [
       "Text(0, 0.5, 'bonus')"
      ]
     },
     "execution_count": 21,
     "metadata": {},
     "output_type": "execute_result"
    },
    {
     "data": {
      "image/png": "[encoded data removed]",
      "text/plain": [
       "<Figure size 432x288 with 1 Axes>"
      ]
     },
     "metadata": {
      "needs_background": "light"
     },
     "output_type": "display_data"
    }
   ],
   "source": [
    "data_dict.pop('TOTAL', 0)\n",
    "\n",
    "data = featureFormat(data_dict, features)\n",
    "\n",
    "plt.scatter(data[:,0], data[:,1])\n",
    "plt.xlabel(\"salary\")\n",
    "plt.ylabel(\"bonus\")"
   ]
  },
  {
   "cell_type": "markdown",
   "metadata": {},
   "source": [
    "## Identifying Two More Outliers"
   ]
  },
  {
   "cell_type": "code",
   "execution_count": 23,
   "metadata": {},
   "outputs": [
    {
     "name": "stdout",
     "output_type": "stream",
     "text": [
      "['LAY KENNETH L', 'SKILLING JEFFREY K', 'TOTAL']\n"
     ]
    }
   ],
   "source": [
    "#print df.columns[name wdf.loc['salary',:] > 1*10**6 and df.loc['bonus',:] > 5*10**6]\n",
    "print ([name for name in df.columns if df.loc['salary', name] > 10**6 and df.loc['bonus',name] > 5*10**6])"
   ]
  }
 ],
 "metadata": {
  "kernelspec": {
   "display_name": "Python 3",
   "language": "python",
   "name": "python3"
  },
  "language_info": {
   "codemirror_mode": {
    "name": "ipython",
    "version": 3
   },
   "file_extension": ".py",
   "mimetype": "text/x-python",
   "name": "python",
   "nbconvert_exporter": "python",
   "pygments_lexer": "ipython3",
   "version": "3.6.9"
  }
 },
 "nbformat": 4,
 "nbformat_minor": 1
}
